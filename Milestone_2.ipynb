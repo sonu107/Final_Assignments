{
 "cells": [
  {
   "cell_type": "code",
   "execution_count": 55,
   "id": "ce736dd8",
   "metadata": {},
   "outputs": [],
   "source": [
    "# Milestone 2: Core Spark Analysis\n",
    "\n",
    "# Calculating Metrics & Trends.\n",
    "\n",
    "# Import required libraries.\n",
    "from pyspark.sql import SparkSession\n",
    "from pyspark.sql.functions import col, avg, max, min, corr, month\n",
    "\n",
    "# Create a Spark session\n",
    "spark = SparkSession.builder \\\n",
    "    .appName(\"FlightAnalysis\") \\\n",
    "    .getOrCreate()"
   ]
  },
  {
   "cell_type": "code",
   "execution_count": 56,
   "id": "a0f644b8",
   "metadata": {},
   "outputs": [],
   "source": [
    "# Load the flight data into a DataFrame.\n",
    "flights_df = spark.read.parquet(\"/Users/sonushah/Desktop/final_assignments/Flights 1m.parquet\")"
   ]
  },
  {
   "cell_type": "code",
   "execution_count": 57,
   "id": "61288ac5",
   "metadata": {},
   "outputs": [
    {
     "name": "stdout",
     "output_type": "stream",
     "text": [
      "+----------+---------+---------+--------+--------+---------+---------+\n",
      "|   FL_DATE|DEP_DELAY|ARR_DELAY|AIR_TIME|DISTANCE| DEP_TIME| ARR_TIME|\n",
      "+----------+---------+---------+--------+--------+---------+---------+\n",
      "|2006-01-01|        5|       19|     350|    2475| 9.083333|12.483334|\n",
      "|2006-01-02|      167|      216|     343|    2475|11.783334|15.766666|\n",
      "|2006-01-03|       -7|       -2|     344|    2475| 8.883333|12.133333|\n",
      "|2006-01-04|       -5|      -13|     331|    2475| 8.916667|    11.95|\n",
      "|2006-01-05|       -3|      -17|     321|    2475|     8.95|11.883333|\n",
      "+----------+---------+---------+--------+--------+---------+---------+\n",
      "only showing top 5 rows\n",
      "\n"
     ]
    }
   ],
   "source": [
    "# Displaying the dataframe.\n",
    "flights_df.show(5)"
   ]
  },
  {
   "cell_type": "code",
   "execution_count": 58,
   "id": "e6e3a506",
   "metadata": {},
   "outputs": [
    {
     "name": "stdout",
     "output_type": "stream",
     "text": [
      "Average Departure Delay: 8.651135\n",
      "Average Arrival Delay: 6.400658\n"
     ]
    }
   ],
   "source": [
    "# Calculate average departure and arrival delay for all flights.\n",
    "avg_delays = flights_df.select(avg(col(\"DEP_DELAY\")).alias(\"AvgDepartureDelay\"),\n",
    "                               avg(col(\"ARR_DELAY\")).alias(\"AvgArrivalDelay\")).collect()[0]\n",
    "print(\"Average Departure Delay:\", avg_delays[\"AvgDepartureDelay\"])\n",
    "print(\"Average Arrival Delay:\", avg_delays[\"AvgArrivalDelay\"])"
   ]
  },
  {
   "cell_type": "code",
   "execution_count": 59,
   "id": "9246a8b6",
   "metadata": {},
   "outputs": [
    {
     "name": "stdout",
     "output_type": "stream",
     "text": [
      "Longest Flight Air Time: 877\n",
      "Longest Flight Distance: 1069\n",
      "Longest Flight Departure Delay: 51\n",
      "Longest Flight Arrival Delay: 770\n"
     ]
    }
   ],
   "source": [
    "# Identify the longest flight by air time, including its distance and delays.\n",
    "longest_flight = flights_df.select(max(col(\"AIR_TIME\")).alias(\"LongestAirTime\")).collect()[0]\n",
    "longest_flight_info = flights_df.filter(col(\"AIR_TIME\") == longest_flight[\"LongestAirTime\"]).first()\n",
    "print(\"Longest Flight Air Time:\", longest_flight_info[\"AIR_TIME\"])\n",
    "print(\"Longest Flight Distance:\", longest_flight_info[\"DISTANCE\"])\n",
    "print(\"Longest Flight Departure Delay:\", longest_flight_info[\"DEP_DELAY\"])\n",
    "print(\"Longest Flight Arrival Delay:\", longest_flight_info[\"ARR_DELAY\"])"
   ]
  },
  {
   "cell_type": "code",
   "execution_count": 60,
   "id": "b060dc1f",
   "metadata": {
    "scrolled": true
   },
   "outputs": [
    {
     "name": "stderr",
     "output_type": "stream",
     "text": [
      "\r",
      "[Stage 126:>                                                        (0 + 4) / 4]\r",
      "\r",
      "[Stage 126:=========================================================(4 + 0) / 4]\r"
     ]
    },
    {
     "name": "stdout",
     "output_type": "stream",
     "text": [
      "Time of Day with Least Average Departure Delay: 4.050000190734863\n"
     ]
    },
    {
     "name": "stderr",
     "output_type": "stream",
     "text": [
      "\r",
      "                                                                                \r"
     ]
    }
   ],
   "source": [
    "# Determine the time of day with the least average departure delay.\n",
    "min_dep_delay_time = flights_df.groupBy(\"DEP_TIME\").agg(avg(\"DEP_DELAY\").alias(\"AvgDepDelay\")).orderBy(\"AvgDepDelay\").first()\n",
    "print(\"Time of Day with Least Average Departure Delay:\", min_dep_delay_time[\"DEP_TIME\"])"
   ]
  },
  {
   "cell_type": "code",
   "execution_count": 61,
   "id": "073f9a1b",
   "metadata": {},
   "outputs": [
    {
     "name": "stdout",
     "output_type": "stream",
     "text": [
      "Departure Delay vs Arrival Delay Correlation: 0.9052460873068467\n",
      "Air Time vs Distance Correlation: 0.9759585972042383\n"
     ]
    }
   ],
   "source": [
    "# Evaluate the correlation between departure delay and arrival delay, alongside air time and distance impact.\n",
    "correlation = flights_df.select(corr(\"DEP_DELAY\", \"ARR_DELAY\").alias(\"DepArrDelayCorrelation\"),\n",
    "                                corr(\"AIR_TIME\", \"DISTANCE\").alias(\"AirTimeDistanceCorrelation\")).collect()[0]\n",
    "print(\"Departure Delay vs Arrival Delay Correlation:\", correlation[\"DepArrDelayCorrelation\"])\n",
    "print(\"Air Time vs Distance Correlation:\", correlation[\"AirTimeDistanceCorrelation\"])"
   ]
  },
  {
   "cell_type": "code",
   "execution_count": 62,
   "id": "2491d5e5",
   "metadata": {},
   "outputs": [
    {
     "name": "stdout",
     "output_type": "stream",
     "text": [
      "Average Departure and Arrival Delays by Month:\n",
      "Month: 1 | Avg Departure Delay: 8.05607493027906 | Avg Arrival Delay: 5.628670654061354\n",
      "Month: 2 | Avg Departure Delay: 9.440354060529927 | Avg Arrival Delay: 7.4245329983483375\n"
     ]
    }
   ],
   "source": [
    "# Examine how average departure and arrival delays vary by month.\n",
    "avg_delays_by_month = flights_df.groupBy(month(\"FL_DATE\").alias(\"Month\")) \\\n",
    "    .agg(avg(\"DEP_DELAY\").alias(\"AvgDepartureDelay\"), avg(\"ARR_DELAY\").alias(\"AvgArrivalDelay\")) \\\n",
    "    .orderBy(\"Month\").collect()\n",
    "\n",
    "print(\"Average Departure and Arrival Delays by Month:\")\n",
    "for row in avg_delays_by_month:\n",
    "    print(\"Month:\", row[\"Month\"], \"| Avg Departure Delay:\", row[\"AvgDepartureDelay\"], \"| Avg Arrival Delay:\", row[\"AvgArrivalDelay\"])\n"
   ]
  },
  {
   "cell_type": "code",
   "execution_count": 63,
   "id": "d3d0ed6f",
   "metadata": {},
   "outputs": [
    {
     "name": "stdout",
     "output_type": "stream",
     "text": [
      "+----------+---------+---------+--------+--------+---------+---------+-------------+\n",
      "|   FL_DATE|DEP_DELAY|ARR_DELAY|AIR_TIME|DISTANCE| DEP_TIME| ARR_TIME|DelaySeverity|\n",
      "+----------+---------+---------+--------+--------+---------+---------+-------------+\n",
      "|2006-01-01|        5|       19|     350|    2475| 9.083333|12.483334|        Minor|\n",
      "|2006-01-02|      167|      216|     343|    2475|11.783334|15.766666|        Major|\n",
      "|2006-01-03|       -7|       -2|     344|    2475| 8.883333|12.133333|        Minor|\n",
      "|2006-01-04|       -5|      -13|     331|    2475| 8.916667|    11.95|        Minor|\n",
      "|2006-01-05|       -3|      -17|     321|    2475|     8.95|11.883333|        Minor|\n",
      "|2006-01-06|       -4|      -32|     320|    2475| 8.933333|11.633333|        Minor|\n",
      "|2006-01-08|       -3|       -2|     346|    2475|     8.95|12.133333|        Minor|\n",
      "|2006-01-09|        3|        0|     334|    2475|     9.05|12.166667|        Minor|\n",
      "|2006-01-10|       -7|      -21|     334|    2475| 8.883333|11.816667|        Minor|\n",
      "|2006-01-11|        8|      -10|     321|    2475| 9.133333|     12.0|        Minor|\n",
      "|2006-01-12|       -5|      -27|     321|    2475| 8.916667|11.716666|        Minor|\n",
      "|2006-01-13|       -7|       -6|     327|    2475| 8.883333|12.066667|        Minor|\n",
      "|2006-01-15|       47|       73|     333|    2475| 9.783334|13.383333|        Major|\n",
      "|2006-01-16|       -4|      -14|     329|    2475| 8.933333|11.933333|        Minor|\n",
      "|2006-01-17|       -4|      -11|     337|    2475| 8.933333|11.983334|        Minor|\n",
      "|2006-01-18|       -1|        4|     342|    2475| 8.983334|12.233334|        Minor|\n",
      "|2006-01-19|       -2|        2|     343|    2475| 8.966666|     12.2|        Minor|\n",
      "|2006-01-20|       -3|       -8|     343|    2475|     8.95|12.033334|        Minor|\n",
      "|2006-01-22|       -8|       -9|     342|    2475| 8.866667|12.016666|        Minor|\n",
      "|2006-01-23|       -4|       -1|     338|    2475| 8.933333|    12.15|        Minor|\n",
      "+----------+---------+---------+--------+--------+---------+---------+-------------+\n",
      "only showing top 20 rows\n",
      "\n"
     ]
    }
   ],
   "source": [
    "# Categorization & Data Preparation.\n",
    "\n",
    "# Categorize flights based on delay severity with defined thresholds.\n",
    "\n",
    "from pyspark.sql.functions import when\n",
    "\n",
    "# Define delay severity thresholds.\n",
    "thresholds = {'Minor': 15, 'Moderate': 30, 'Major': 60}\n",
    "\n",
    "# Categorize flights based on delay severity\n",
    "categorized_df = flights_df.withColumn(\"DelaySeverity\",\n",
    "                               when(flights_df[\"DEP_DELAY\"] <= thresholds['Minor'], \"Minor\")\n",
    "                               .when(flights_df[\"DEP_DELAY\"] <= thresholds['Moderate'], \"Moderate\")\n",
    "                               .otherwise(\"Major\"))\n",
    "categorized_df.show()"
   ]
  },
  {
   "cell_type": "code",
   "execution_count": 64,
   "id": "6c01b9cc",
   "metadata": {},
   "outputs": [
    {
     "name": "stdout",
     "output_type": "stream",
     "text": [
      "+--------+-------------------+\n",
      "|DISTANCE|  AvgDepartureDelay|\n",
      "+--------+-------------------+\n",
      "|      30|               39.5|\n",
      "|      31|  9.544642857142858|\n",
      "|      36| 1.4561933534743203|\n",
      "|      47|  5.445061043285238|\n",
      "|      49| 2.2894248608534324|\n",
      "|      50|              120.0|\n",
      "|      56| 2.6363636363636362|\n",
      "|      64|  2.252450980392157|\n",
      "|      67| 13.672546857772877|\n",
      "|      68| 1.7257142857142858|\n",
      "|      70| 1.6409090909090909|\n",
      "|      71|               34.0|\n",
      "|      73| 7.9511111111111115|\n",
      "|      74| 1.7270114942528736|\n",
      "|      75|  16.08695652173913|\n",
      "|      76|-1.0555555555555556|\n",
      "|      77|  9.522670025188917|\n",
      "|      78| 11.541147132169575|\n",
      "|      79| 10.633484162895927|\n",
      "|      81|  9.329787234042554|\n",
      "+--------+-------------------+\n",
      "only showing top 20 rows\n",
      "\n"
     ]
    }
   ],
   "source": [
    "# Analyze if longer flights are more prone to longer delays than shorter ones.\n",
    "\n",
    "# Calculate average delay for shorter and longer flights.\n",
    "average_delay_by_distance = flights_df.groupBy(\"DISTANCE\") \\\n",
    "    .agg(avg(\"DEP_DELAY\").alias(\"AvgDepartureDelay\")) \\\n",
    "    .orderBy(\"DISTANCE\")\n",
    "\n",
    "average_delay_by_distance.show()"
   ]
  },
  {
   "cell_type": "code",
   "execution_count": 66,
   "id": "2c1a4d66",
   "metadata": {},
   "outputs": [
    {
     "name": "stdout",
     "output_type": "stream",
     "text": [
      "Peak Departure Hour: 3\n",
      "Peak Arrival Hour: 3\n"
     ]
    }
   ],
   "source": [
    "# Observe how departures and arrivals vary hourly, identifying peak hours.\n",
    "\n",
    "# Extract hour from departure and arrival timestamps\n",
    "flights_df = flights_df.withColumn(\"DepartureHour\", col(\"DEP_TIME\").cast(\"integer\"))\n",
    "flights_df = flights_df.withColumn(\"ArrivalHour\", col(\"ARR_TIME\").cast(\"integer\"))\n",
    "\n",
    "# Calculate average departures and arrivals by hour\n",
    "avg_departures_by_hour = flights_df.groupBy(\"DepartureHour\").avg(\"DEP_DELAY\").orderBy(\"DepartureHour\")\n",
    "avg_arrivals_by_hour = flights_df.groupBy(\"ArrivalHour\").avg(\"ARR_DELAY\").orderBy(\"ArrivalHour\")\n",
    "\n",
    "# Identify peak hours based on the highest average delay\n",
    "peak_departure_hour = avg_departures_by_hour.orderBy(col(\"avg(DEP_DELAY)\").desc()).first()[\"DepartureHour\"]\n",
    "peak_arrival_hour = avg_arrivals_by_hour.orderBy(col(\"avg(ARR_DELAY)\").desc()).first()[\"ArrivalHour\"]\n",
    "\n",
    "print(\"Peak Departure Hour:\", peak_departure_hour)\n",
    "print(\"Peak Arrival Hour:\", peak_arrival_hour)"
   ]
  },
  {
   "cell_type": "code",
   "execution_count": 68,
   "id": "a00ca4f0",
   "metadata": {},
   "outputs": [
    {
     "name": "stdout",
     "output_type": "stream",
     "text": [
      "+--------+--------+---------+---------+\n",
      "|DISTANCE|AIR_TIME|DEP_DELAY|ARR_DELAY|\n",
      "+--------+--------+---------+---------+\n",
      "|    2475|     350|        5|       19|\n",
      "|    2475|     343|      167|      216|\n",
      "|    2475|     344|       -7|       -2|\n",
      "|    2475|     331|       -5|      -13|\n",
      "|    2475|     321|       -3|      -17|\n",
      "|    2475|     320|       -4|      -32|\n",
      "|    2475|     346|       -3|       -2|\n",
      "|    2475|     334|        3|        0|\n",
      "|    2475|     334|       -7|      -21|\n",
      "|    2475|     321|        8|      -10|\n",
      "|    2475|     321|       -5|      -27|\n",
      "|    2475|     327|       -7|       -6|\n",
      "|    2475|     333|       47|       73|\n",
      "|    2475|     329|       -4|      -14|\n",
      "|    2475|     337|       -4|      -11|\n",
      "|    2475|     342|       -1|        4|\n",
      "|    2475|     343|       -2|        2|\n",
      "|    2475|     343|       -3|       -8|\n",
      "|    2475|     342|       -8|       -9|\n",
      "|    2475|     338|       -4|       -1|\n",
      "+--------+--------+---------+---------+\n",
      "only showing top 20 rows\n",
      "\n"
     ]
    }
   ],
   "source": [
    "# Prepare a dataset for a machine learning model to predict arrival delay.\n",
    "\n",
    "# Select relevant features and target variable\n",
    "ml_dataset = flights_df.select(\"DISTANCE\", \"AIR_TIME\", \"DEP_DELAY\", \"ARR_DELAY\").show()"
   ]
  },
  {
   "cell_type": "code",
   "execution_count": 70,
   "id": "e7f58c8e",
   "metadata": {},
   "outputs": [
    {
     "name": "stdout",
     "output_type": "stream",
     "text": [
      "24/03/04 19:30:06 WARN HeartbeatReceiver: Removing executor driver with no recent heartbeats: 1007253 ms exceeds timeout 120000 ms\n",
      "24/03/04 19:30:06 WARN SparkContext: Killing executors is not supported by current scheduler.\n"
     ]
    }
   ],
   "source": [
    "# Identify the extremes in flight operations for both departure and arrival delays and write these analyses\n",
    "#into an Excel file with different sheets.\n",
    "\n",
    "import pandas as pd\n",
    "\n",
    "extreme_departure_delay = flights_df.select(max(\"DEP_DELAY\").alias(\"MaxDepartureDelay\"), min(\"DEP_DELAY\").alias(\"MinDepartureDelay\"))\n",
    "extreme_arrival_delay = flights_df.select(max(\"ARR_DELAY\").alias(\"MaxArrivalDelay\"), min(\"ARR_DELAY\").alias(\"MinArrivalDelay\"))\n",
    "\n",
    "# Write analyses into an Excel file with different sheets\n",
    "with pd.ExcelWriter('flight_analysis.xlsx') as writer:\n",
    "    extreme_departure_delay.toPandas().to_excel(writer, sheet_name='Extreme Departure Delay', index=False)\n",
    "    extreme_arrival_delay.toPandas().to_excel(writer, sheet_name='Extreme Arrival Delay', index=False)"
   ]
  },
  {
   "cell_type": "code",
   "execution_count": null,
   "id": "351cea00",
   "metadata": {},
   "outputs": [],
   "source": []
  }
 ],
 "metadata": {
  "kernelspec": {
   "display_name": "Python 3 (ipykernel)",
   "language": "python",
   "name": "python3"
  },
  "language_info": {
   "codemirror_mode": {
    "name": "ipython",
    "version": 3
   },
   "file_extension": ".py",
   "mimetype": "text/x-python",
   "name": "python",
   "nbconvert_exporter": "python",
   "pygments_lexer": "ipython3",
   "version": "3.9.12"
  }
 },
 "nbformat": 4,
 "nbformat_minor": 5
}
